{
 "cells": [
  {
   "cell_type": "markdown",
   "metadata": {},
   "source": [
    "## Hackathon #2 MDWeb/MDMoby"
   ]
  },
  {
   "cell_type": "code",
   "execution_count": 186,
   "metadata": {
    "collapsed": false
   },
   "outputs": [],
   "source": [
    "import numpy as np\n",
    "import MDAnalysis as mda\n",
    "import math\n",
    "import os\n",
    "\n",
    "#import subprocess\n",
    "#import bioservices\n",
    "#import tempfile\n"
   ]
  },
  {
   "cell_type": "code",
   "execution_count": null,
   "metadata": {
    "collapsed": true
   },
   "outputs": [],
   "source": [
    "THRESHOLD = 4.5   # Threshold for identifiction of a gap in residues\n",
    "code = '1914'  # example with gaps\n",
    "\n",
    "# Get PDB file by code\n",
    "p = subprocess.Popen(('/usr/local/bin/getpdb.sh', code))\n",
    "p.communicate()\n",
    "p = subprocess.Popen(('gunzip',  'pdb'+code+'.ent.gz'))\n",
    "p.communicate()\n",
    "p = subprocess.Popen(('mv', 'pdb'+code+'.ent', 'pdb'+code+'.pdb'))\n",
    "p.communicate()"
   ]
  },
  {
   "cell_type": "code",
   "execution_count": 187,
   "metadata": {
    "collapsed": false,
    "scrolled": true
   },
   "outputs": [
    {
     "data": {
      "text/plain": [
       "(None, None)"
      ]
     },
     "execution_count": 187,
     "metadata": {},
     "output_type": "execute_result"
    }
   ],
   "source": [
    "!ls"
   ]
  },
  {
   "cell_type": "code",
   "execution_count": 188,
   "metadata": {
    "collapsed": false
   },
   "outputs": [
    {
     "name": "stdout",
     "output_type": "stream",
     "text": [
      "Residue Gap: 2034 2047 19.1994\n",
      "Residue Gap: 2097 3001 14.0736\n",
      "Residue Gap: 3008 4004 13.8024\n"
     ]
    }
   ],
   "source": [
    "u = mda.Universe('pdb'+code+'.pdb')\n",
    "# Todo:  here we also need to pass the model number (NMR has more than 1 model!) and the chain\n",
    "\n",
    "ca = u.atoms.select_atoms('name CA')\n",
    "\n",
    "for c1 in ca.atoms:\n",
    "    found = False\n",
    "    for c2 in ca.atoms:\n",
    "        if c2.residue.resnum-c1.residue.resnum > 0 and not(found):\n",
    "            found = True\n",
    "            p1 = c1.position\n",
    "            p2 = c2.position\n",
    "            dist_ca = np.linalg.norm(p1-p2)\n",
    "            if (dist_ca > THRESHOLD):\n",
    "                print \"Residue Gap between residues:\", c1.residue.resnum, c2.residue.resnum, dist_ca\n",
    "            "
   ]
  }
 ],
 "metadata": {
  "kernelspec": {
   "display_name": "Python 2",
   "language": "python",
   "name": "python2"
  },
  "language_info": {
   "codemirror_mode": {
    "name": "ipython",
    "version": 2
   },
   "file_extension": ".py",
   "mimetype": "text/x-python",
   "name": "python",
   "nbconvert_exporter": "python",
   "pygments_lexer": "ipython2",
   "version": "2.7.10"
  }
 },
 "nbformat": 4,
 "nbformat_minor": 0
}
